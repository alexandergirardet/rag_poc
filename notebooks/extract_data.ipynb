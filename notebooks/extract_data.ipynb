{
 "cells": [
  {
   "cell_type": "markdown",
   "id": "d09090ae-f47b-4a60-8eda-cdafdb34bfcc",
   "metadata": {},
   "source": [
    "# Data Source"
   ]
  },
  {
   "cell_type": "code",
   "execution_count": 1,
   "id": "5d0019c5-45ca-4335-bbed-8e91a1e77672",
   "metadata": {},
   "outputs": [],
   "source": [
    "data_path = \"/Users/alexander.girardet/Code/Personal/projects/rag_poc/data/Articles.csv\""
   ]
  },
  {
   "cell_type": "code",
   "execution_count": 2,
   "id": "1431727c-8558-46f7-9b34-1fd1aebe8c77",
   "metadata": {},
   "outputs": [],
   "source": [
    "import pandas as pd"
   ]
  },
  {
   "cell_type": "code",
   "execution_count": 5,
   "id": "51d18a75-b9a6-4932-99ed-f7b8091e48ec",
   "metadata": {},
   "outputs": [],
   "source": [
    "articles = pd.read_csv(data_path , encoding='ISO-8859-1')"
   ]
  },
  {
   "cell_type": "code",
   "execution_count": 12,
   "id": "8ffc289b-911c-4d6d-9c2a-800ad08d57b5",
   "metadata": {},
   "outputs": [
    {
     "data": {
      "text/html": [
       "<div>\n",
       "<style scoped>\n",
       "    .dataframe tbody tr th:only-of-type {\n",
       "        vertical-align: middle;\n",
       "    }\n",
       "\n",
       "    .dataframe tbody tr th {\n",
       "        vertical-align: top;\n",
       "    }\n",
       "\n",
       "    .dataframe thead th {\n",
       "        text-align: right;\n",
       "    }\n",
       "</style>\n",
       "<table border=\"1\" class=\"dataframe\">\n",
       "  <thead>\n",
       "    <tr style=\"text-align: right;\">\n",
       "      <th></th>\n",
       "      <th>Article</th>\n",
       "      <th>Date</th>\n",
       "      <th>Heading</th>\n",
       "      <th>NewsType</th>\n",
       "    </tr>\n",
       "  </thead>\n",
       "  <tbody>\n",
       "    <tr>\n",
       "      <th>0</th>\n",
       "      <td>KARACHI: The Sindh government has decided to b...</td>\n",
       "      <td>1/1/2015</td>\n",
       "      <td>sindh govt decides to cut public transport far...</td>\n",
       "      <td>business</td>\n",
       "    </tr>\n",
       "    <tr>\n",
       "      <th>1</th>\n",
       "      <td>HONG KONG: Asian markets started 2015 on an up...</td>\n",
       "      <td>1/2/2015</td>\n",
       "      <td>asia stocks up in new year trad</td>\n",
       "      <td>business</td>\n",
       "    </tr>\n",
       "    <tr>\n",
       "      <th>2</th>\n",
       "      <td>HONG KONG:  Hong Kong shares opened 0.66 perce...</td>\n",
       "      <td>1/5/2015</td>\n",
       "      <td>hong kong stocks open 0.66 percent lower</td>\n",
       "      <td>business</td>\n",
       "    </tr>\n",
       "    <tr>\n",
       "      <th>3</th>\n",
       "      <td>HONG KONG: Asian markets tumbled Tuesday follo...</td>\n",
       "      <td>1/6/2015</td>\n",
       "      <td>asian stocks sink euro near nine year</td>\n",
       "      <td>business</td>\n",
       "    </tr>\n",
       "    <tr>\n",
       "      <th>4</th>\n",
       "      <td>NEW YORK: US oil prices Monday slipped below $...</td>\n",
       "      <td>1/6/2015</td>\n",
       "      <td>us oil prices slip below 50 a barr</td>\n",
       "      <td>business</td>\n",
       "    </tr>\n",
       "  </tbody>\n",
       "</table>\n",
       "</div>"
      ],
      "text/plain": [
       "                                             Article      Date  \\\n",
       "0  KARACHI: The Sindh government has decided to b...  1/1/2015   \n",
       "1  HONG KONG: Asian markets started 2015 on an up...  1/2/2015   \n",
       "2  HONG KONG:  Hong Kong shares opened 0.66 perce...  1/5/2015   \n",
       "3  HONG KONG: Asian markets tumbled Tuesday follo...  1/6/2015   \n",
       "4  NEW YORK: US oil prices Monday slipped below $...  1/6/2015   \n",
       "\n",
       "                                             Heading  NewsType  \n",
       "0  sindh govt decides to cut public transport far...  business  \n",
       "1                    asia stocks up in new year trad  business  \n",
       "2           hong kong stocks open 0.66 percent lower  business  \n",
       "3             asian stocks sink euro near nine year   business  \n",
       "4                 us oil prices slip below 50 a barr  business  "
      ]
     },
     "execution_count": 12,
     "metadata": {},
     "output_type": "execute_result"
    }
   ],
   "source": [
    "articles.head()"
   ]
  },
  {
   "cell_type": "code",
   "execution_count": 20,
   "id": "d6fbeae1-6c44-48ee-991b-34b173880912",
   "metadata": {},
   "outputs": [],
   "source": [
    "articles['Date'] = pd.to_datetime(articles['Date']) # In flight data processing during extraction."
   ]
  },
  {
   "cell_type": "code",
   "execution_count": 18,
   "id": "7a6e01f7-2db9-470d-ad90-f5e874be7e59",
   "metadata": {},
   "outputs": [
    {
     "name": "stdout",
     "output_type": "stream",
     "text": [
      "<class 'pandas.core.frame.DataFrame'>\n",
      "RangeIndex: 2692 entries, 0 to 2691\n",
      "Data columns (total 4 columns):\n",
      " #   Column    Non-Null Count  Dtype         \n",
      "---  ------    --------------  -----         \n",
      " 0   Article   2692 non-null   object        \n",
      " 1   Date      2692 non-null   datetime64[ns]\n",
      " 2   Heading   2692 non-null   object        \n",
      " 3   NewsType  2692 non-null   object        \n",
      "dtypes: datetime64[ns](1), object(3)\n",
      "memory usage: 84.3+ KB\n"
     ]
    }
   ],
   "source": [
    "articles.info()"
   ]
  },
  {
   "cell_type": "markdown",
   "id": "e0b34767-ccf6-4f0e-a55f-665300b96c37",
   "metadata": {},
   "source": [
    "# Data Extraction process"
   ]
  },
  {
   "cell_type": "markdown",
   "id": "47d04c88-ad76-4931-9708-fe2af09f8188",
   "metadata": {},
   "source": [
    "Extract all the data to a standardized JSON format for MongoDB storage. Acting as the unstructured data store."
   ]
  },
  {
   "cell_type": "code",
   "execution_count": null,
   "id": "98fcd480-f686-4fe6-ae0f-cd95565ea6cb",
   "metadata": {},
   "outputs": [],
   "source": [
    "from pymongo import MongoClient\n",
    "\n",
    "client = MongoClient(\"mongodb://localhost:27017/\") # Hosted with Docker\n",
    "\n",
    "db = client[\"unstructured_data_store\"]\n",
    "\n",
    "# Access collection\n",
    "collection = db[\"articles\"]"
   ]
  },
  {
   "cell_type": "markdown",
   "id": "12ba5995-bcf5-45ae-b768-431aaaae3d0c",
   "metadata": {},
   "source": [
    "## Article Data model"
   ]
  },
  {
   "cell_type": "code",
   "execution_count": 28,
   "id": "f8d10e34-154f-4bec-b77b-ddf2235d2f0c",
   "metadata": {},
   "outputs": [],
   "source": [
    "from pydantic import BaseModel, Field\n",
    "from typing import Optional\n",
    "from datetime import datetime\n",
    "from tqdm import tqdm"
   ]
  },
  {
   "cell_type": "code",
   "execution_count": 21,
   "id": "d7f8a418-d08e-4eea-bccb-fb042a91a7f0",
   "metadata": {},
   "outputs": [],
   "source": [
    "class NewsArticle(BaseModel):\n",
    "    Article: str\n",
    "    Heading: str\n",
    "    Date: datetime\n",
    "    NewsType: str"
   ]
  },
  {
   "cell_type": "code",
   "execution_count": 24,
   "id": "a4fd4cb3-2140-4321-862f-770ac3477574",
   "metadata": {},
   "outputs": [],
   "source": [
    "article_batches = articles.to_dict(orient=\"records\")"
   ]
  },
  {
   "cell_type": "code",
   "execution_count": 30,
   "id": "779c8987-b5fa-4731-a0fa-d27312604ad7",
   "metadata": {},
   "outputs": [
    {
     "name": "stderr",
     "output_type": "stream",
     "text": [
      "100%|█████████████████████████████████████████████████████████████████████████████████████████████████████| 2692/2692 [00:01<00:00, 1427.13it/s]\n"
     ]
    }
   ],
   "source": [
    "for article_json in tqdm(article_batches):\n",
    "    article = NewsArticle(**article_json)\n",
    "    article_processed_json = article.dict()\n",
    "    collection.insert_one(article_processed_json)"
   ]
  },
  {
   "cell_type": "markdown",
   "id": "2002ce25-56cb-4219-b200-1701108f72f8",
   "metadata": {},
   "source": [
    "All articles are loaded into MongoDB collection. "
   ]
  },
  {
   "cell_type": "code",
   "execution_count": null,
   "id": "4b210f2e-4bac-44b3-bf62-ccdb5c586db8",
   "metadata": {},
   "outputs": [],
   "source": []
  }
 ],
 "metadata": {
  "kernelspec": {
   "display_name": "Python 3 (ipykernel)",
   "language": "python",
   "name": "python3"
  },
  "language_info": {
   "codemirror_mode": {
    "name": "ipython",
    "version": 3
   },
   "file_extension": ".py",
   "mimetype": "text/x-python",
   "name": "python",
   "nbconvert_exporter": "python",
   "pygments_lexer": "ipython3",
   "version": "3.11.4"
  }
 },
 "nbformat": 4,
 "nbformat_minor": 5
}
